{
  "nbformat": 4,
  "nbformat_minor": 0,
  "metadata": {
    "colab": {
      "provenance": [],
      "gpuType": "T4",
      "authorship_tag": "ABX9TyNCC7wTgwNaLYx+2D+r71QF",
      "include_colab_link": true
    },
    "kernelspec": {
      "name": "python3",
      "display_name": "Python 3"
    },
    "language_info": {
      "name": "python"
    },
    "accelerator": "GPU"
  },
  "cells": [
    {
      "cell_type": "markdown",
      "metadata": {
        "id": "view-in-github",
        "colab_type": "text"
      },
      "source": [
        "<a href=\"https://colab.research.google.com/github/Dharuf/Phyton/blob/main/Transfer_Learning_Cats_vs_Dogs_DIO.ipynb\" target=\"_parent\"><img src=\"https://colab.research.google.com/assets/colab-badge.svg\" alt=\"Open In Colab\"/></a>"
      ]
    },
    {
      "cell_type": "markdown",
      "source": [
        "Download e Instalação da biblioteca CATS-VS-DOGS"
      ],
      "metadata": {
        "id": "k1eH9KYjOSDi"
      }
    },
    {
      "cell_type": "code",
      "execution_count": 6,
      "metadata": {
        "id": "UJzyLKi5MZph"
      },
      "outputs": [],
      "source": [
        "!mkdir -p ~/.kaggle\n",
        "!cp kaggle.json ~/.kaggle/"
      ]
    },
    {
      "cell_type": "code",
      "source": [
        "!kaggle datasets download -d salader/dogs-vs-cats"
      ],
      "metadata": {
        "colab": {
          "base_uri": "https://localhost:8080/"
        },
        "id": "aHsK-atXOMHB",
        "outputId": "5b914649-03c7-492c-9674-729708c91d2e"
      },
      "execution_count": 7,
      "outputs": [
        {
          "output_type": "stream",
          "name": "stdout",
          "text": [
            "Warning: Your Kaggle API key is readable by other users on this system! To fix this, you can run 'chmod 600 /root/.kaggle/kaggle.json'\n",
            "Downloading dogs-vs-cats.zip to /content\n",
            "100% 1.06G/1.06G [00:08<00:00, 226MB/s]\n",
            "100% 1.06G/1.06G [00:08<00:00, 135MB/s]\n"
          ]
        }
      ]
    },
    {
      "cell_type": "markdown",
      "source": [
        "Extraindo a Pasta \"dogs-vs-cats.zip\""
      ],
      "metadata": {
        "id": "GMr1tlU3PYJX"
      }
    },
    {
      "cell_type": "code",
      "source": [
        "import zipfile\n",
        "zip_ref = zipfile.ZipFile('/content/dogs-vs-cats.zip', 'r')\n",
        "zip_ref.extractall('/content')\n",
        "zip_ref.close()"
      ],
      "metadata": {
        "id": "C1-O9hTAMuMG"
      },
      "execution_count": 8,
      "outputs": []
    },
    {
      "cell_type": "markdown",
      "source": [
        "Importação das Bibliotecas."
      ],
      "metadata": {
        "id": "7ofbKYYaPrhT"
      }
    },
    {
      "cell_type": "code",
      "source": [
        "import tensorflow as tf\n",
        "from tensorflow import keras\n",
        "from keras import Sequential\n",
        "from keras.layers import Dense,Conv2D,MaxPooling2D,Flatten,BatchNormalization,Dropout"
      ],
      "metadata": {
        "id": "w-ERnC0hPhFK"
      },
      "execution_count": 9,
      "outputs": []
    },
    {
      "cell_type": "markdown",
      "source": [
        "setando a geração de treino e teste"
      ],
      "metadata": {
        "id": "4x6DmHeQSOSR"
      }
    },
    {
      "cell_type": "code",
      "source": [
        "# geração\n",
        "train_ds = keras.utils.image_dataset_from_directory(\n",
        "    directory = '/content/train',\n",
        "    labels=\"inferred\",\n",
        "    label_mode=\"int\",\n",
        "    batch_size=32,\n",
        "    image_size=(256,256)\n",
        ")\n",
        "\n",
        "validation_ds = keras.utils.image_dataset_from_directory(\n",
        "    directory = '/content/test',\n",
        "    labels=\"inferred\",\n",
        "    label_mode=\"int\",\n",
        "    batch_size=32,\n",
        "    image_size=(256,256)\n",
        ")"
      ],
      "metadata": {
        "colab": {
          "base_uri": "https://localhost:8080/"
        },
        "id": "HQrzoNZwPrGW",
        "outputId": "86d99b25-f54d-4329-9fd2-0de0fa11782b"
      },
      "execution_count": 10,
      "outputs": [
        {
          "output_type": "stream",
          "name": "stdout",
          "text": [
            "Found 20000 files belonging to 2 classes.\n",
            "Found 5000 files belonging to 2 classes.\n"
          ]
        }
      ]
    },
    {
      "cell_type": "markdown",
      "source": [
        "Preparando o dataset"
      ],
      "metadata": {
        "id": "_neFYGylTNvC"
      }
    },
    {
      "cell_type": "code",
      "source": [
        "#Normalizando\n",
        "def process(image,label):\n",
        "  image = tf.cast(image/255. ,tf.float32)\n",
        "  return image,label\n",
        "\n",
        "train_ds = train_ds.map(process)\n",
        "validation_ds = validation_ds.map(process)"
      ],
      "metadata": {
        "id": "ELYVMvRISNVO"
      },
      "execution_count": 11,
      "outputs": []
    },
    {
      "cell_type": "code",
      "source": [
        "# Criando modelo CNN\n",
        "\n",
        "model = Sequential()\n",
        "\n",
        "model.add(Conv2D(32,kernel_size = (3,3), padding = 'valid',activation = 'relu',input_shape = (256, 256, 3)))\n",
        "model.add(BatchNormalization())\n",
        "model.add(MaxPooling2D(pool_size=(2,2),strides = 2,padding ='valid'))\n",
        "\n",
        "model.add(Conv2D(64,kernel_size = (3,3), padding = 'valid',activation = 'relu'))\n",
        "model.add(BatchNormalization())\n",
        "model.add(MaxPooling2D(pool_size=(2,2), strides = 2,padding = 'valid'))\n",
        "\n",
        "model.add(Conv2D(128,kernel_size = (3,3), padding = 'valid',activation = 'relu'))\n",
        "model.add(BatchNormalization())\n",
        "model.add(MaxPooling2D(pool_size=(2,2), strides = 2, padding = 'valid'))\n",
        "\n",
        "model.add(Flatten())\n",
        "\n",
        "model.add(Dense(128,activation='relu'))\n",
        "model.add(Dropout(0.1))\n",
        "model.add(Dense(64,activation='relu'))\n",
        "model.add(Dropout(0.1))\n",
        "model.add(Dense(1,activation ='sigmoid'))"
      ],
      "metadata": {
        "id": "jHOoVYwXTR0R"
      },
      "execution_count": 12,
      "outputs": []
    },
    {
      "cell_type": "code",
      "source": [
        "model.summary()"
      ],
      "metadata": {
        "colab": {
          "base_uri": "https://localhost:8080/"
        },
        "id": "FAuBIE_8XJdM",
        "outputId": "1a584ba5-ad48-4eff-baa2-ad72f4e5eccf"
      },
      "execution_count": 13,
      "outputs": [
        {
          "output_type": "stream",
          "name": "stdout",
          "text": [
            "Model: \"sequential\"\n",
            "_________________________________________________________________\n",
            " Layer (type)                Output Shape              Param #   \n",
            "=================================================================\n",
            " conv2d (Conv2D)             (None, 254, 254, 32)      896       \n",
            "                                                                 \n",
            " batch_normalization (Batch  (None, 254, 254, 32)      128       \n",
            " Normalization)                                                  \n",
            "                                                                 \n",
            " max_pooling2d (MaxPooling2  (None, 127, 127, 32)      0         \n",
            " D)                                                              \n",
            "                                                                 \n",
            " conv2d_1 (Conv2D)           (None, 125, 125, 64)      18496     \n",
            "                                                                 \n",
            " batch_normalization_1 (Bat  (None, 125, 125, 64)      256       \n",
            " chNormalization)                                                \n",
            "                                                                 \n",
            " max_pooling2d_1 (MaxPoolin  (None, 62, 62, 64)        0         \n",
            " g2D)                                                            \n",
            "                                                                 \n",
            " conv2d_2 (Conv2D)           (None, 60, 60, 128)       73856     \n",
            "                                                                 \n",
            " batch_normalization_2 (Bat  (None, 60, 60, 128)       512       \n",
            " chNormalization)                                                \n",
            "                                                                 \n",
            " max_pooling2d_2 (MaxPoolin  (None, 30, 30, 128)       0         \n",
            " g2D)                                                            \n",
            "                                                                 \n",
            " flatten (Flatten)           (None, 115200)            0         \n",
            "                                                                 \n",
            " dense (Dense)               (None, 128)               14745728  \n",
            "                                                                 \n",
            " dropout (Dropout)           (None, 128)               0         \n",
            "                                                                 \n",
            " dense_1 (Dense)             (None, 64)                8256      \n",
            "                                                                 \n",
            " dropout_1 (Dropout)         (None, 64)                0         \n",
            "                                                                 \n",
            " dense_2 (Dense)             (None, 1)                 65        \n",
            "                                                                 \n",
            "=================================================================\n",
            "Total params: 14848193 (56.64 MB)\n",
            "Trainable params: 14847745 (56.64 MB)\n",
            "Non-trainable params: 448 (1.75 KB)\n",
            "_________________________________________________________________\n"
          ]
        }
      ]
    },
    {
      "cell_type": "code",
      "source": [
        "model.compile(optimizer ='adam', loss='binary_crossentropy',metrics=['accuracy'])"
      ],
      "metadata": {
        "id": "fmghKAvlXUQP"
      },
      "execution_count": 14,
      "outputs": []
    },
    {
      "cell_type": "code",
      "source": [
        "history = model.fit(train_ds,epochs=10,validation_data=validation_ds)"
      ],
      "metadata": {
        "colab": {
          "base_uri": "https://localhost:8080/"
        },
        "id": "yQNGgPszXxt4",
        "outputId": "d16d5205-77fc-404f-a1ad-5149664dfa6a"
      },
      "execution_count": 15,
      "outputs": [
        {
          "output_type": "stream",
          "name": "stdout",
          "text": [
            "Epoch 1/10\n",
            "625/625 [==============================] - 86s 114ms/step - loss: 1.1909 - accuracy: 0.5913 - val_loss: 0.6170 - val_accuracy: 0.6516\n",
            "Epoch 2/10\n",
            "625/625 [==============================] - 70s 110ms/step - loss: 0.5716 - accuracy: 0.7049 - val_loss: 0.5641 - val_accuracy: 0.7194\n",
            "Epoch 3/10\n",
            "625/625 [==============================] - 66s 105ms/step - loss: 0.4968 - accuracy: 0.7620 - val_loss: 0.8253 - val_accuracy: 0.5854\n",
            "Epoch 4/10\n",
            "625/625 [==============================] - 66s 106ms/step - loss: 0.4341 - accuracy: 0.7993 - val_loss: 0.4703 - val_accuracy: 0.7816\n",
            "Epoch 5/10\n",
            "625/625 [==============================] - 69s 109ms/step - loss: 0.3561 - accuracy: 0.8382 - val_loss: 0.5011 - val_accuracy: 0.7872\n",
            "Epoch 6/10\n",
            "625/625 [==============================] - 66s 105ms/step - loss: 0.2852 - accuracy: 0.8785 - val_loss: 0.7204 - val_accuracy: 0.7318\n",
            "Epoch 7/10\n",
            "625/625 [==============================] - 66s 104ms/step - loss: 0.2177 - accuracy: 0.9104 - val_loss: 0.8180 - val_accuracy: 0.7712\n",
            "Epoch 8/10\n",
            "625/625 [==============================] - 67s 106ms/step - loss: 0.1532 - accuracy: 0.9390 - val_loss: 0.7874 - val_accuracy: 0.7560\n",
            "Epoch 9/10\n",
            "625/625 [==============================] - 67s 106ms/step - loss: 0.1064 - accuracy: 0.9612 - val_loss: 0.6257 - val_accuracy: 0.8042\n",
            "Epoch 10/10\n",
            "625/625 [==============================] - 68s 109ms/step - loss: 0.0731 - accuracy: 0.9747 - val_loss: 0.7503 - val_accuracy: 0.7924\n"
          ]
        }
      ]
    },
    {
      "cell_type": "markdown",
      "source": [
        "gerando um grafico da acuracia do treino e validação"
      ],
      "metadata": {
        "id": "2OKORfWVc8ta"
      }
    },
    {
      "cell_type": "code",
      "source": [
        "import matplotlib.pyplot as plt\n",
        "\n",
        "plt.plot(history.history['accuracy'],color ='red',label ='train')\n",
        "plt.plot(history.history['val_accuracy'],color='blue',label='validation')\n",
        "plt.legend()\n",
        "plt.show()"
      ],
      "metadata": {
        "colab": {
          "base_uri": "https://localhost:8080/",
          "height": 430
        },
        "id": "tkJD5YriYJrL",
        "outputId": "f7aabe82-0bb9-4410-ca3e-1efaaa59e0a2"
      },
      "execution_count": 16,
      "outputs": [
        {
          "output_type": "display_data",
          "data": {
            "text/plain": [
              "<Figure size 640x480 with 1 Axes>"
            ],
            "image/png": "[encoded data removed]"
          },
          "metadata": {}
        }
      ]
    },
    {
      "cell_type": "markdown",
      "source": [
        "gerando um grafico das perdas do treino e validação"
      ],
      "metadata": {
        "id": "lm1-Xq7JdIpC"
      }
    },
    {
      "cell_type": "code",
      "source": [
        "plt.plot(history.history['loss'],color='red',label='train')\n",
        "plt.plot(history.history['val_loss'],color='blue',label='validation')\n",
        "plt.legend()\n",
        "plt.show()"
      ],
      "metadata": {
        "colab": {
          "base_uri": "https://localhost:8080/",
          "height": 430
        },
        "id": "ANMb8VM_c2Mi",
        "outputId": "e0b1dead-ef6a-45fa-bbf4-19783c2393a8"
      },
      "execution_count": 17,
      "outputs": [
        {
          "output_type": "display_data",
          "data": {
            "text/plain": [
              "<Figure size 640x480 with 1 Axes>"
            ],
            "image/png": "[encoded data removed]"
          },
          "metadata": {}
        }
      ]
    }
  ]
}